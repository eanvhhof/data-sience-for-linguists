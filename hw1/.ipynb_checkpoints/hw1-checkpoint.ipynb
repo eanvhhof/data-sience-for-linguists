{
 "cells": [
  {
   "cell_type": "markdown",
   "id": "270d2483-61f9-4940-b666-7434079dc8b8",
   "metadata": {},
   "source": [
    "# Unicode Character Extraction and Filtering\n",
    "This notebook extracts Unicode characters from a file and filters words that contain only Albanian letters.\n"
   ]
  },
  {
   "cell_type": "markdown",
   "id": "198ca591-db7a-47e6-a970-266f152884f2",
   "metadata": {},
   "source": []
  },
  {
   "cell_type": "code",
   "execution_count": null,
   "id": "3fb426fc-f863-48a4-99fb-0eaf44972f8f",
   "metadata": {},
   "outputs": [],
   "source": [
    "# Load the file and extract unique Unicode characters\n",
    "def extract_unicode_chars(filename):\n",
    "    with open(filename, encoding='utf-8') as file:\n",
    "        text = file.read()\n",
    "    return set(text)\n",
    "\n",
    "# Example usage:\n",
    "file_path = \"your_file.txt\"\n",
    "unicode_chars = extract_unicode_chars(file_path)\n",
    "print(\"Unique Unicode characters:\", unicode_chars)\n"
   ]
  },
  {
   "cell_type": "code",
   "execution_count": null,
   "id": "bce82355-9afe-493b-b112-e84608477c35",
   "metadata": {},
   "outputs": [],
   "source": [
    "# Define the allowed Albanian letters (both uppercase and lowercase)\n",
    "allowed_chars = set(\"abcçdeëfghijklmnopqrstuvxyzABCÇDEËFGHIJKLMNOPQRSTUVXYZ\")\n",
    "\n",
    "def is_albanian(word):\n",
    "    return all(char in allowed_chars for char in word)\n",
    "\n",
    "\n"
   ]
  },
  {
   "cell_type": "code",
   "execution_count": null,
   "id": "24f72a8d-7228-4fba-bbb8-68d048d9de22",
   "metadata": {},
   "outputs": [],
   "source": [
    "# Define the allowed Albanian letters (both uppercase and lowercase)\n",
    "allowed_chars = set(\"abcçdeëfghijklmnopqrstuvxyzABCÇDEËFGHIJKLMNOPQRSTUVXYZ\")\n",
    "\n",
    "def is_albanian(word):\n",
    "    return all(char in allowed_chars for char in word)\n",
    "\n",
    "    # Example usage:\n",
    "test_words = [\"shtëpi\", \"hello\", \"tungjatjeta\", \"12345\"]\n",
    "filtered_words = [word for word in test_words if is_albanian(word)]\n",
    "print(\"Filtered Albanian words:\", filtered_words)\n",
    "\n",
    "\n"
   ]
  }
 ],
 "metadata": {
  "kernelspec": {
   "display_name": "Python 3 (ipykernel)",
   "language": "python",
   "name": "python3"
  },
  "language_info": {
   "codemirror_mode": {
    "name": "ipython",
    "version": 3
   },
   "file_extension": ".py",
   "mimetype": "text/x-python",
   "name": "python",
   "nbconvert_exporter": "python",
   "pygments_lexer": "ipython3",
   "version": "3.12.3"
  }
 },
 "nbformat": 4,
 "nbformat_minor": 5
}
