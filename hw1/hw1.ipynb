{
 "cells": [
  {
   "cell_type": "code",
   "execution_count": null,
   "id": "0c7e7cc8-ace0-43f7-9bba-5819f2408528",
   "metadata": {},
   "outputs": [],
   "source": []
  },
  {
   "cell_type": "code",
   "execution_count": 1,
   "id": "519ca3e2-d649-496b-84e4-65df83323872",
   "metadata": {},
   "outputs": [
    {
     "name": "stdout",
     "output_type": "stream",
     "text": [
      "\n",
      " !\"$%&'()*+,-./0123456789:;<>?ABCDEFGHIJKLMNOPQRSTUVWXYZ`abcdefghijklmnopqrstuvwxyz~¢£¤¥§«¬°±²³´µ·º»¼½¾ÁÄÅÆÇÈÉËÍÎÏÖ×ØÚÜÞßàáâãäåæçèéêëìíîïðñòóôõöøùúûüýþÿĀāăąĆćċČčďĐđĒēėęěĝğġĦīĭİıķŁłńņňŌōőŒœřŚśŞşŠšŢţūůűŷźŻżŽžƒưǐǔȄȘșțȳəɛʃʊʏʔʼʾʿˁˇː˚ˤ̠́ΆΉΑΒΓΔΕΖΘΙΚΛΜΝΠΡΣΤΦΧΩάέήίαβγδεζηθικλμνξοπρςστυφχψωϊόύώϝЁЃЈАБВГДЕИКМОПРСТУФХЧЭабвгдежзийклмнопрстуфхцчшщъыьэяёјҡҪҫүַּאבהוזיךכמןנערשתءأئابةتجحخدرزسشصضطعغـفقكلمنهويَِّچکگھगडणतधनपमरलशसािुो्ପରୀୁஆகடணதரலவாிூோ்ංකරලශ්ාීაბგდევზილმორსუფშჩძხჯḍḏḤḥḪḫḱṃṅṇṢṣṭṯẒạấầợἀἈἐἠἴἵἶἹὄὑὴὶᾄῆῖῦῳ ​‎‐‑–—―‖‘’‚“”„†•…‰′″⁄₂₄₆₈€⃗№™→−∟∪∼≈≠≡≥⌂☉♋⟨⟩《》あいけしじすのひびまゅりるんァィイウェォカガギクグサシスズソタダッツテドニバパフブプヘベボマムャラリルレロワンヴ・ー一三上下不世丸二井京人仁今仏代令仲伎会伝佛修俳健先公六円写冷切北十南卸厚取口古号吳和嘯四団圓地坊堂塔士大天太夫奈女婚子字学安宗官室宫宮密居屠山嵐川帝幸座廻式復心忍忠怪恵慈房手抜揚擺政敏敢文新方日星智月木本札杀李松板林栗校株次歌正武段流浄浮淀清為無狂狩猛獄獣王珍生男界白皇盟相省看眠眼石砕碓社禅福秀空粋紅純結絵繁美義羽者肇腹興舞船良苦英蒜蓮藤虚蛍蜂血術表衫話語説講議话赋赤越輪迪追遁遊道邸郎郑部鄭酌里野金錦鍵門门限雀雄雨雷面鞭須領顧飛餅騎鬼魔鯉鯱龙글김남민음정준한훈ﬁﻦﻭﻳ（），\n"
     ]
    }
   ],
   "source": [
    "with open('sq-sample.txt', encoding='utf-8') as f:\n",
    "    text = f.read()\n",
    "unique_chars = sorted(set(text))\n",
    "print(''.join(unique_chars))"
   ]
  },
  {
   "cell_type": "code",
   "execution_count": 2,
   "id": "55ba90b1-74a8-445a-99ac-10d4577f6de4",
   "metadata": {},
   "outputs": [],
   "source": [
    "import random\n",
    "\n",
    "with open('sq-sample.txt', encoding='utf-8') as f:\n",
    "    sentences = [line.strip() for line in f if line.strip()]\n",
    "random.shuffle(sentences)\n"
   ]
  },
  {
   "cell_type": "code",
   "execution_count": null,
   "id": "177363cf-99f0-4242-ac9f-adcc36223620",
   "metadata": {},
   "outputs": [],
   "source": []
  },
  {
   "cell_type": "code",
   "execution_count": null,
   "id": "e40ca232-dc4b-4a39-8e8c-d7f86d9e47ea",
   "metadata": {},
   "outputs": [],
   "source": []
  },
  {
   "cell_type": "code",
   "execution_count": null,
   "id": "4a75c692-125e-4a70-a409-7e975eceaf2f",
   "metadata": {},
   "outputs": [],
   "source": []
  },
  {
   "cell_type": "code",
   "execution_count": null,
   "id": "28cb8a92-2fad-482c-b4ae-5bceaebabc60",
   "metadata": {},
   "outputs": [],
   "source": []
  },
  {
   "cell_type": "code",
   "execution_count": null,
   "id": "dba78fc1-d4f4-447b-9e85-9040581fda50",
   "metadata": {},
   "outputs": [],
   "source": []
  }
 ],
 "metadata": {
  "kernelspec": {
   "display_name": "Python 3 (ipykernel)",
   "language": "python",
   "name": "python3"
  },
  "language_info": {
   "codemirror_mode": {
    "name": "ipython",
    "version": 3
   },
   "file_extension": ".py",
   "mimetype": "text/x-python",
   "name": "python",
   "nbconvert_exporter": "python",
   "pygments_lexer": "ipython3",
   "version": "3.12.3"
  }
 },
 "nbformat": 4,
 "nbformat_minor": 5
}
