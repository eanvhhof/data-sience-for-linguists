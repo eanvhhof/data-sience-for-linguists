{
 "cells": [
  {
   "cell_type": "code",
   "execution_count": 1,
   "id": "c997b56a",
   "metadata": {},
   "outputs": [],
   "source": [
    "import pandas as pd"
   ]
  },
  {
   "cell_type": "code",
   "execution_count": 2,
   "id": "08680851",
   "metadata": {},
   "outputs": [],
   "source": [
    "languages = pd.read_csv('languages_and_dialects_geo.csv')"
   ]
  },
  {
   "cell_type": "code",
   "execution_count": 3,
   "id": "7c6571c6",
   "metadata": {},
   "outputs": [
    {
     "name": "stdout",
     "output_type": "stream",
     "text": [
      "       glottocode        name isocodes    level macroarea     latitude  \\\n",
      "count       22111       22111     8121    22111     22019  8849.000000   \n",
      "unique      22111       22111     8121        2         6          NaN   \n",
      "top      3adt1234  3Ad-Tekles      aiw  dialect   Eurasia          NaN   \n",
      "freq            1           1        1    13507      7011          NaN   \n",
      "mean          NaN         NaN      NaN      NaN       NaN     8.935550   \n",
      "std           NaN         NaN      NaN      NaN       NaN    19.603034   \n",
      "min           NaN         NaN      NaN      NaN       NaN   -55.274800   \n",
      "25%           NaN         NaN      NaN      NaN       NaN    -5.086930   \n",
      "50%           NaN         NaN      NaN      NaN       NaN     6.842170   \n",
      "75%           NaN         NaN      NaN      NaN       NaN    21.572100   \n",
      "max           NaN         NaN      NaN      NaN       NaN    73.135400   \n",
      "\n",
      "          longitude  \n",
      "count   8849.000000  \n",
      "unique          NaN  \n",
      "top             NaN  \n",
      "freq            NaN  \n",
      "mean      50.715108  \n",
      "std       80.979511  \n",
      "min     -178.785000  \n",
      "25%        7.213910  \n",
      "50%       47.837900  \n",
      "75%      123.156317  \n",
      "max      179.306000  \n"
     ]
    }
   ],
   "source": [
    "print(languages.describe(include='all'))"
   ]
  },
  {
   "cell_type": "code",
   "execution_count": 4,
   "id": "d1e77a2d",
   "metadata": {},
   "outputs": [
    {
     "name": "stdout",
     "output_type": "stream",
     "text": [
      "The database has 22111 entries on languiges and databases.\n"
     ]
    }
   ],
   "source": [
    "print(f\"The database has {len(languages)} entries on languiges and databases.\")"
   ]
  },
  {
   "cell_type": "code",
   "execution_count": 5,
   "id": "75f0894b",
   "metadata": {},
   "outputs": [
    {
     "data": {
      "text/plain": [
       "array(['Africa', 'Papunesia', 'Eurasia', 'South America', 'North America',\n",
       "       'Australia', nan], dtype=object)"
      ]
     },
     "execution_count": 5,
     "metadata": {},
     "output_type": "execute_result"
    }
   ],
   "source": [
    "languages['macroarea'].unique()"
   ]
  }
 ],
 "metadata": {
  "kernelspec": {
   "display_name": "Python 3",
   "language": "python",
   "name": "python3"
  },
  "language_info": {
   "codemirror_mode": {
    "name": "ipython",
    "version": 3
   },
   "file_extension": ".py",
   "mimetype": "text/x-python",
   "name": "python",
   "nbconvert_exporter": "python",
   "pygments_lexer": "ipython3",
   "version": "3.12.3"
  }
 },
 "nbformat": 4,
 "nbformat_minor": 5
}
