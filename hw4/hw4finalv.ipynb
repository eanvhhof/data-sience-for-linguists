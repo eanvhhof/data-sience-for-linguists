{
 "cells": [
  {
   "cell_type": "code",
   "execution_count": 1,
   "id": "dac39241",
   "metadata": {},
   "outputs": [],
   "source": [
    "import pandas as pd"
   ]
  },
  {
   "cell_type": "code",
   "execution_count": 2,
   "id": "c8a5ae9b",
   "metadata": {},
   "outputs": [],
   "source": [
    "file_path = \"eu_bdt-ud-dev.conllu\"  # Replace with the actual path to your file\n",
    "\n",
    "lines = []\n",
    "with open(file_path, 'r', encoding='utf-8') as f:\n",
    "    for line in f:\n",
    "        line = line.strip()\n",
    "        if line and not line.startswith('#'):  # Filter out empty lines and comments\n",
    "            lines.append(line.split('\\t'))"
   ]
  },
  {
   "cell_type": "code",
   "execution_count": 3,
   "id": "6a922ece",
   "metadata": {},
   "outputs": [],
   "source": [
    "column_names = ['id', 'form', 'lemma', 'upos', 'xpos', 'feats', 'head', 'deprel', 'deps', 'misc']\n",
    "df = pd.DataFrame(lines, columns=column_names)"
   ]
  },
  {
   "cell_type": "code",
   "execution_count": 4,
   "id": "c43f1b04",
   "metadata": {},
   "outputs": [],
   "source": [
    "df = df.replace({'_': pd.NA})  # Replace '_' with Na"
   ]
  },
  {
   "cell_type": "code",
   "execution_count": 5,
   "id": "2c0fc853",
   "metadata": {},
   "outputs": [],
   "source": [
    "df['feats'] = df['feats'].fillna('')"
   ]
  },
  {
   "cell_type": "code",
   "execution_count": 6,
   "id": "5c455b8f",
   "metadata": {},
   "outputs": [
    {
     "name": "stdout",
     "output_type": "stream",
     "text": [
      "Columns remaining: Index(['id', 'form', 'lemma', 'upos', 'feats', 'head', 'deprel'], dtype='object')\n"
     ]
    }
   ],
   "source": [
    "threshold = 0.8 \n",
    "df = df.dropna(thresh=len(df) * (1 - threshold), axis=1) \n",
    "print(\"Columns remaining:\", df.columns)"
   ]
  },
  {
   "cell_type": "code",
   "execution_count": 7,
   "id": "bb44f604",
   "metadata": {},
   "outputs": [
    {
     "name": "stdout",
     "output_type": "stream",
     "text": [
      "Shape of the reduced DataFrame: (1707, 7)\n",
      "    id  form lemma  upos                                              feats  \\\n",
      "7    8  izan  izan  VERB                          Aspect=Perf|VerbForm=Part   \n",
      "15   6    da  izan   AUX  Mood=Ind|Number[abs]=Sing|Person[abs]=3|VerbFo...   \n",
      "29  12   zen  izan   AUX  Mood=Ind|Number[abs]=Sing|Person[abs]=3|VerbFo...   \n",
      "34   4   den  izan   AUX  Mood=Ind|Number[abs]=Sing|Person[abs]=3|VerbFo...   \n",
      "39   2  izan  izan  VERB                          Aspect=Perf|VerbForm=Part   \n",
      "\n",
      "   head deprel  \n",
      "7     0   root  \n",
      "15    5    aux  \n",
      "29   11    aux  \n",
      "34    3    aux  \n",
      "39    4    acl  \n"
     ]
    }
   ],
   "source": [
    "lemmas_of_interest = ['izan', 'ukan']\n",
    "upos_of_interest = ['VERB', 'AUX']\n",
    "\n",
    "df_reduced = df[df['lemma'].isin(lemmas_of_interest) & df['upos'].isin(upos_of_interest)].copy()\n",
    "\n",
    "print(f\"Shape of the reduced DataFrame: {df_reduced.shape}\")\n",
    "print(df_reduced.head())"
   ]
  },
  {
   "cell_type": "code",
   "execution_count": 8,
   "id": "408a8570",
   "metadata": {},
   "outputs": [
    {
     "name": "stdout",
     "output_type": "stream",
     "text": [
      "Unique morphological features found:\n",
      "['Aspect', 'VerbForm', 'Mood', 'Number[abs]', 'Person[abs]', 'Number[erg]', 'Person[erg]', 'Number[dat]', 'Person[dat]', 'Polarity', 'Case', 'Definite', 'Gender', 'Polite', 'Number', 'Gender[erg]', 'Polite[erg]']\n",
      "\n",
      "Feature counts:\n",
      "Counter({'VerbForm': 1707, 'Mood': 1321, 'Number[abs]': 1321, 'Person[abs]': 1321, 'Aspect': 855, 'Number[erg]': 247, 'Person[erg]': 247, 'Case': 74, 'Number[dat]': 67, 'Person[dat]': 67, 'Definite': 43, 'Number': 31, 'Polarity': 17, 'Gender': 9, 'Polite': 9, 'Gender[erg]': 1, 'Polite[erg]': 1})\n"
     ]
    }
   ],
   "source": [
    "import re\n",
    "from collections import Counter\n",
    "\n",
    "all_features = []\n",
    "for feats_str in df_reduced['feats']:\n",
    "    if isinstance(feats_str, str):  # Ensure we are working with a string\n",
    "        features = re.findall(r'([^|=]+)=[^|]*', feats_str)\n",
    "        all_features.extend(features)\n",
    "\n",
    "feature_counts = Counter(all_features)\n",
    "unique_features = list(feature_counts.keys())\n",
    "\n",
    "print(\"Unique morphological features found:\")\n",
    "print(unique_features)\n",
    "print(\"\\nFeature counts:\")\n",
    "print(feature_counts)"
   ]
  },
  {
   "cell_type": "code",
   "execution_count": 9,
   "id": "594b395a",
   "metadata": {},
   "outputs": [
    {
     "name": "stdout",
     "output_type": "stream",
     "text": [
      "\n",
      "Infrequent features to discard: {'Number', 'Polite[erg]', 'Polarity', 'Gender[erg]', 'Polite', 'Definite', 'Gender'}\n",
      "\n",
      "Shape of the DataFrame after filtering infrequent features: (1639, 7)\n",
      "    id  form lemma  upos                                              feats  \\\n",
      "7    8  izan  izan  VERB                          Aspect=Perf|VerbForm=Part   \n",
      "15   6    da  izan   AUX  Mood=Ind|Number[abs]=Sing|Person[abs]=3|VerbFo...   \n",
      "29  12   zen  izan   AUX  Mood=Ind|Number[abs]=Sing|Person[abs]=3|VerbFo...   \n",
      "34   4   den  izan   AUX  Mood=Ind|Number[abs]=Sing|Person[abs]=3|VerbFo...   \n",
      "39   2  izan  izan  VERB                          Aspect=Perf|VerbForm=Part   \n",
      "\n",
      "   head deprel  \n",
      "7     0   root  \n",
      "15    5    aux  \n",
      "29   11    aux  \n",
      "34    3    aux  \n",
      "39    4    acl  \n"
     ]
    }
   ],
   "source": [
    "infrequent_features = {feature for feature, count in feature_counts.items() if count < 50}\n",
    "print(\"\\nInfrequent features to discard:\", infrequent_features)\n",
    "\n",
    "def filter_by_frequent_features(row):\n",
    "    if isinstance(row['feats'], str):\n",
    "        features_in_row = set(re.findall(r'([^|=]+)=[^|]*', row['feats']))\n",
    "        return not (features_in_row & infrequent_features)\n",
    "    return True  # Keep rows where 'feats' is NaN or empty\n",
    "\n",
    "df_filtered = df_reduced[df_reduced.apply(filter_by_frequent_features, axis=1)].copy()\n",
    "\n",
    "print(f\"\\nShape of the DataFrame after filtering infrequent features: {df_filtered.shape}\")\n",
    "print(df_filtered.head())"
   ]
  },
  {
   "cell_type": "code",
   "execution_count": 10,
   "id": "091ac2e5",
   "metadata": {},
   "outputs": [
    {
     "name": "stdout",
     "output_type": "stream",
     "text": [
      "Shape of DataFrame after extracting features: (1639, 24)\n",
      "    id  form lemma  upos                                              feats  \\\n",
      "7    8  izan  izan  VERB                          Aspect=Perf|VerbForm=Part   \n",
      "15   6    da  izan   AUX  Mood=Ind|Number[abs]=Sing|Person[abs]=3|VerbFo...   \n",
      "29  12   zen  izan   AUX  Mood=Ind|Number[abs]=Sing|Person[abs]=3|VerbFo...   \n",
      "34   4   den  izan   AUX  Mood=Ind|Number[abs]=Sing|Person[abs]=3|VerbFo...   \n",
      "39   2  izan  izan  VERB                          Aspect=Perf|VerbForm=Part   \n",
      "\n",
      "   head deprel Aspect VerbForm Mood  ... Number[dat] Person[dat] Polarity  \\\n",
      "7     0   root   Perf     Part  NaN  ...         NaN         NaN      NaN   \n",
      "15    5    aux    NaN      Fin  Ind  ...         NaN         NaN      NaN   \n",
      "29   11    aux    NaN      Fin  Ind  ...         NaN         NaN      NaN   \n",
      "34    3    aux    NaN      Fin  Ind  ...         NaN         NaN      NaN   \n",
      "39    4    acl   Perf     Part  NaN  ...         NaN         NaN      NaN   \n",
      "\n",
      "   Case Definite Gender Polite Number Gender[erg] Polite[erg]  \n",
      "7   NaN      NaN    NaN    NaN    NaN         NaN         NaN  \n",
      "15  NaN      NaN    NaN    NaN    NaN         NaN         NaN  \n",
      "29  NaN      NaN    NaN    NaN    NaN         NaN         NaN  \n",
      "34  NaN      NaN    NaN    NaN    NaN         NaN         NaN  \n",
      "39  NaN      NaN    NaN    NaN    NaN         NaN         NaN  \n",
      "\n",
      "[5 rows x 24 columns]\n"
     ]
    }
   ],
   "source": [
    "# cell10\n",
    "for feature_name in unique_features:\n",
    "    pattern = rf'{re.escape(feature_name)}=([^|]*)'\n",
    "    df_filtered[feature_name] = df_filtered['feats'].str.extract(pattern)\n",
    "\n",
    "print(f\"Shape of DataFrame after extracting features: {df_filtered.shape}\")\n",
    "print(df_filtered.head())"
   ]
  },
  {
   "cell_type": "code",
   "execution_count": 11,
   "id": "1b00ee9a",
   "metadata": {},
   "outputs": [
    {
     "name": "stdout",
     "output_type": "stream",
     "text": [
      "    form lemma  upos   Abs   Erg   Dat\n",
      "7   izan  izan  VERB  <NA>  <NA>  <NA>\n",
      "15    da  izan   AUX   3si  <NA>  <NA>\n",
      "29   zen  izan   AUX   3si  <NA>  <NA>\n",
      "34   den  izan   AUX   3si  <NA>  <NA>\n",
      "39  izan  izan  VERB  <NA>  <NA>  <NA>\n"
     ]
    }
   ],
   "source": [
    "# cell11\n",
    "def combine_agreement(row, argument):\n",
    "    number = row.get(f'Number[{argument}]')\n",
    "    person = row.get(f'Person[{argument}]')\n",
    "    if pd.notna(number) and pd.notna(person):\n",
    "        return f\"{person}{number[:2].lower()}\"  # e.g., 3sg, 1pl\n",
    "    return pd.NA\n",
    "\n",
    "df_filtered['Abs'] = df_filtered.apply(lambda row: combine_agreement(row, 'abs'), axis=1)\n",
    "df_filtered['Erg'] = df_filtered.apply(lambda row: combine_agreement(row, 'erg'), axis=1)\n",
    "df_filtered['Dat'] = df_filtered.apply(lambda row: combine_agreement(row, 'dat'), axis=1)\n",
    "\n",
    "# Drop the original Number and Person agreement columns\n",
    "cols_to_drop = [col for col in df_filtered.columns if col.startswith('Number[') or col.startswith('Person[')]\n",
    "df_filtered = df_filtered.drop(columns=cols_to_drop, errors='ignore')\n",
    "\n",
    "print(df_filtered[['form', 'lemma', 'upos', 'Abs', 'Erg', 'Dat']].head())"
   ]
  },
  {
   "cell_type": "code",
   "execution_count": 12,
   "id": "fe600e81",
   "metadata": {},
   "outputs": [
    {
     "name": "stdout",
     "output_type": "stream",
     "text": [
      "<class 'pandas.core.frame.DataFrame'>\n",
      "Index: 1639 entries, 7 to 24091\n",
      "Data columns (total 21 columns):\n",
      " #   Column       Non-Null Count  Dtype   \n",
      "---  ------       --------------  -----   \n",
      " 0   id           1639 non-null   object  \n",
      " 1   form         1639 non-null   object  \n",
      " 2   lemma        1639 non-null   category\n",
      " 3   upos         1639 non-null   category\n",
      " 4   feats        1639 non-null   object  \n",
      " 5   head         1639 non-null   object  \n",
      " 6   deprel       1639 non-null   category\n",
      " 7   Aspect       825 non-null    object  \n",
      " 8   VerbForm     1639 non-null   object  \n",
      " 9   Mood         1278 non-null   object  \n",
      " 10  Polarity     0 non-null      object  \n",
      " 11  Case         31 non-null     object  \n",
      " 12  Definite     0 non-null      object  \n",
      " 13  Gender       0 non-null      object  \n",
      " 14  Polite       0 non-null      object  \n",
      " 15  Number       0 non-null      object  \n",
      " 16  Gender[erg]  0 non-null      object  \n",
      " 17  Polite[erg]  0 non-null      object  \n",
      " 18  Abs          1278 non-null   category\n",
      " 19  Erg          227 non-null    category\n",
      " 20  Dat          65 non-null     category\n",
      "dtypes: category(6), object(15)\n",
      "memory usage: 215.7+ KB\n",
      "None\n"
     ]
    }
   ],
   "source": [
    "# cell12\n",
    "cols_to_categorical = ['lemma', 'upos', 'deprel', 'Abs', 'Erg', 'Dat']\n",
    "\n",
    "for col in cols_to_categorical:\n",
    "    if col in df_filtered.columns:\n",
    "        df_filtered[col] = df_filtered[col].astype('category')\n",
    "\n",
    "print(df_filtered.info())"
   ]
  },
  {
   "cell_type": "code",
   "execution_count": 13,
   "id": "9fd787d4",
   "metadata": {},
   "outputs": [
    {
     "name": "stdout",
     "output_type": "stream",
     "text": [
      "Frequency of each form with its features:\n",
      "Empty DataFrame\n",
      "Columns: [form, Aspect, VerbForm, Mood, Polarity, Case, Definite, Gender, Polite, Number, Gender[erg], Polite[erg], Abs, Erg, Dat, count]\n",
      "Index: []\n",
      "\n",
      "Shape of the form frequency DataFrame: (0, 16)\n"
     ]
    },
    {
     "name": "stderr",
     "output_type": "stream",
     "text": [
      "/tmp/ipykernel_8107/2568356902.py:4: FutureWarning: The default of observed=False is deprecated and will be changed to True in a future version of pandas. Pass observed=False to retain current behavior or observed=True to adopt the future default and silence this warning.\n",
      "  form_frequency = df_filtered.groupby(['form'] + feature_columns).size().reset_index(name='count')\n"
     ]
    }
   ],
   "source": [
    "# cell13\n",
    "feature_columns = [col for col in df_filtered.columns if col not in ['id', 'form', 'lemma', 'upos', 'xpos', 'head', 'deprel', 'deps', 'misc', 'feats']]\n",
    "\n",
    "form_frequency = df_filtered.groupby(['form'] + feature_columns).size().reset_index(name='count')\n",
    "\n",
    "print(\"Frequency of each form with its features:\")\n",
    "print(form_frequency.head())\n",
    "print(f\"\\nShape of the form frequency DataFrame: {form_frequency.shape}\")"
   ]
  },
  {
   "cell_type": "code",
   "execution_count": 14,
   "id": "5453294e",
   "metadata": {},
   "outputs": [
    {
     "name": "stderr",
     "output_type": "stream",
     "text": [
      "/tmp/ipykernel_8107/1637451222.py:13: FutureWarning: \n",
      "\n",
      "Passing `palette` without assigning `hue` is deprecated and will be removed in v0.14.0. Assign the `x` variable to `hue` and set `legend=False` for the same effect.\n",
      "\n",
      "  sns.barplot(x=feature_shares_sorted.index, y=feature_shares_sorted.values, palette=\"viridis\")\n"
     ]
    },
    {
     "data": {
      "image/png": "[encoded data removed]",
      "text/plain": [
       "<Figure size 1200x600 with 1 Axes>"
      ]
     },
     "metadata": {},
     "output_type": "display_data"
    }
   ],
   "source": [
    "# cell14\n",
    "import matplotlib.pyplot as plt\n",
    "import seaborn as sns\n",
    "\n",
    "feature_presence = df_filtered[feature_columns].notna().sum()\n",
    "total_tokens = len(df_filtered)\n",
    "feature_shares = feature_presence / total_tokens\n",
    "\n",
    "# Sort features by their share for better visualization\n",
    "feature_shares_sorted = feature_shares.sort_values(ascending=False)\n",
    "\n",
    "plt.figure(figsize=(12, 6))\n",
    "sns.barplot(x=feature_shares_sorted.index, y=feature_shares_sorted.values, palette=\"viridis\")\n",
    "plt.ylabel(\"Share of Tokens Specified\")\n",
    "plt.xlabel(\"Morphological Feature\")\n",
    "plt.title(\"Share of Tokens with Each Morphological Feature Specified\")\n",
    "plt.xticks(rotation=45, ha='right')\n",
    "plt.tight_layout()\n",
    "plt.show()"
   ]
  },
  {
   "cell_type": "code",
   "execution_count": null,
   "id": "99e814f9",
   "metadata": {},
   "outputs": [],
   "source": []
  }
 ],
 "metadata": {
  "kernelspec": {
   "display_name": "Python 3",
   "language": "python",
   "name": "python3"
  },
  "language_info": {
   "codemirror_mode": {
    "name": "ipython",
    "version": 3
   },
   "file_extension": ".py",
   "mimetype": "text/x-python",
   "name": "python",
   "nbconvert_exporter": "python",
   "pygments_lexer": "ipython3",
   "version": "3.12.3"
  }
 },
 "nbformat": 4,
 "nbformat_minor": 5
}
