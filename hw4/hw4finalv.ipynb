{
 "cells": [
  {
   "cell_type": "code",
   "execution_count": 19,
   "id": "dac39241",
   "metadata": {},
   "outputs": [],
   "source": [
    "import pandas as pd"
   ]
  },
  {
   "cell_type": "code",
   "execution_count": 20,
   "id": "c8a5ae9b",
   "metadata": {},
   "outputs": [],
   "source": [
    "file_path = \"eu_bdt-ud-dev.conllu\"  # Replace with the actual path to your file\n",
    "\n",
    "lines = []\n",
    "with open(file_path, 'r', encoding='utf-8') as f:\n",
    "    for line in f:\n",
    "        line = line.strip()\n",
    "        if line and not line.startswith('#'):  # Filter out empty lines and comments\n",
    "            lines.append(line.split('\\t'))"
   ]
  },
  {
   "cell_type": "code",
   "execution_count": 21,
   "id": "6a922ece",
   "metadata": {},
   "outputs": [],
   "source": [
    "column_names = ['id', 'form', 'lemma', 'upos', 'xpos', 'feats', 'head', 'deprel', 'deps', 'misc']\n",
    "df = pd.DataFrame(lines, columns=column_names)"
   ]
  },
  {
   "cell_type": "code",
   "execution_count": 22,
   "id": "c43f1b04",
   "metadata": {},
   "outputs": [],
   "source": [
    "df = df.replace({'_': pd.NA})  # Replace '_' with Na"
   ]
  },
  {
   "cell_type": "code",
   "execution_count": 23,
   "id": "2c0fc853",
   "metadata": {},
   "outputs": [],
   "source": [
    "df['feats'] = df['feats'].fillna('')"
   ]
  },
  {
   "cell_type": "code",
   "execution_count": 24,
   "id": "5c455b8f",
   "metadata": {},
   "outputs": [
    {
     "name": "stdout",
     "output_type": "stream",
     "text": [
      "Columns remaining: Index(['id', 'form', 'lemma', 'upos', 'feats', 'head', 'deprel'], dtype='object')\n"
     ]
    }
   ],
   "source": [
    "threshold = 0.8 \n",
    "df = df.dropna(thresh=len(df) * (1 - threshold), axis=1) \n",
    "print(\"Columns remaining:\", df.columns)"
   ]
  },
  {
   "cell_type": "code",
   "execution_count": 25,
   "id": "f4eac426",
   "metadata": {},
   "outputs": [],
   "source": [
    "tresh=len(df) * (1 - threshold)"
   ]
  },
  {
   "cell_type": "code",
   "execution_count": 26,
   "id": "4855533e",
   "metadata": {},
   "outputs": [],
   "source": [
    "axis=1"
   ]
  },
  {
   "cell_type": "code",
   "execution_count": 27,
   "id": "68d91024",
   "metadata": {},
   "outputs": [
    {
     "data": {
      "text/plain": [
       "Index(['id', 'form', 'lemma', 'upos', 'feats', 'head', 'deprel'], dtype='object')"
      ]
     },
     "execution_count": 27,
     "metadata": {},
     "output_type": "execute_result"
    }
   ],
   "source": [
    "df.columns"
   ]
  },
  {
   "cell_type": "code",
   "execution_count": 28,
   "id": "6e45ba76",
   "metadata": {},
   "outputs": [],
   "source": [
    "lemmas_of_interest = ['izan', 'ukan'] \n",
    "df_filtered = df[df['lemma'].isin(lemmas_of_interest)]"
   ]
  },
  {
   "cell_type": "code",
   "execution_count": 29,
   "id": "242c7a27",
   "metadata": {},
   "outputs": [
    {
     "data": {
      "text/html": [
       "<div>\n",
       "<style scoped>\n",
       "    .dataframe tbody tr th:only-of-type {\n",
       "        vertical-align: middle;\n",
       "    }\n",
       "\n",
       "    .dataframe tbody tr th {\n",
       "        vertical-align: top;\n",
       "    }\n",
       "\n",
       "    .dataframe thead th {\n",
       "        text-align: right;\n",
       "    }\n",
       "</style>\n",
       "<table border=\"1\" class=\"dataframe\">\n",
       "  <thead>\n",
       "    <tr style=\"text-align: right;\">\n",
       "      <th></th>\n",
       "      <th>id</th>\n",
       "      <th>form</th>\n",
       "      <th>lemma</th>\n",
       "      <th>upos</th>\n",
       "      <th>feats</th>\n",
       "      <th>head</th>\n",
       "      <th>deprel</th>\n",
       "    </tr>\n",
       "  </thead>\n",
       "  <tbody>\n",
       "    <tr>\n",
       "      <th>7</th>\n",
       "      <td>8</td>\n",
       "      <td>izan</td>\n",
       "      <td>izan</td>\n",
       "      <td>VERB</td>\n",
       "      <td>Aspect=Perf|VerbForm=Part</td>\n",
       "      <td>0</td>\n",
       "      <td>root</td>\n",
       "    </tr>\n",
       "    <tr>\n",
       "      <th>15</th>\n",
       "      <td>6</td>\n",
       "      <td>da</td>\n",
       "      <td>izan</td>\n",
       "      <td>AUX</td>\n",
       "      <td>Mood=Ind|Number[abs]=Sing|Person[abs]=3|VerbFo...</td>\n",
       "      <td>5</td>\n",
       "      <td>aux</td>\n",
       "    </tr>\n",
       "    <tr>\n",
       "      <th>29</th>\n",
       "      <td>12</td>\n",
       "      <td>zen</td>\n",
       "      <td>izan</td>\n",
       "      <td>AUX</td>\n",
       "      <td>Mood=Ind|Number[abs]=Sing|Person[abs]=3|VerbFo...</td>\n",
       "      <td>11</td>\n",
       "      <td>aux</td>\n",
       "    </tr>\n",
       "    <tr>\n",
       "      <th>34</th>\n",
       "      <td>4</td>\n",
       "      <td>den</td>\n",
       "      <td>izan</td>\n",
       "      <td>AUX</td>\n",
       "      <td>Mood=Ind|Number[abs]=Sing|Person[abs]=3|VerbFo...</td>\n",
       "      <td>3</td>\n",
       "      <td>aux</td>\n",
       "    </tr>\n",
       "    <tr>\n",
       "      <th>39</th>\n",
       "      <td>2</td>\n",
       "      <td>izan</td>\n",
       "      <td>izan</td>\n",
       "      <td>VERB</td>\n",
       "      <td>Aspect=Perf|VerbForm=Part</td>\n",
       "      <td>4</td>\n",
       "      <td>acl</td>\n",
       "    </tr>\n",
       "    <tr>\n",
       "      <th>...</th>\n",
       "      <td>...</td>\n",
       "      <td>...</td>\n",
       "      <td>...</td>\n",
       "      <td>...</td>\n",
       "      <td>...</td>\n",
       "      <td>...</td>\n",
       "      <td>...</td>\n",
       "    </tr>\n",
       "    <tr>\n",
       "      <th>24026</th>\n",
       "      <td>6</td>\n",
       "      <td>duten</td>\n",
       "      <td>ukan</td>\n",
       "      <td>VERB</td>\n",
       "      <td>VerbForm=Fin</td>\n",
       "      <td>7</td>\n",
       "      <td>acl</td>\n",
       "    </tr>\n",
       "    <tr>\n",
       "      <th>24075</th>\n",
       "      <td>6</td>\n",
       "      <td>diren</td>\n",
       "      <td>izan</td>\n",
       "      <td>AUX</td>\n",
       "      <td>Mood=Ind|Number[abs]=Plur|Person[abs]=3|VerbFo...</td>\n",
       "      <td>4</td>\n",
       "      <td>aux</td>\n",
       "    </tr>\n",
       "    <tr>\n",
       "      <th>24081</th>\n",
       "      <td>12</td>\n",
       "      <td>duela</td>\n",
       "      <td>ukan</td>\n",
       "      <td>VERB</td>\n",
       "      <td>Aspect=Prog|Mood=Ind|Number[abs]=Sing|Number[e...</td>\n",
       "      <td>9</td>\n",
       "      <td>advcl</td>\n",
       "    </tr>\n",
       "    <tr>\n",
       "      <th>24090</th>\n",
       "      <td>21</td>\n",
       "      <td>izan</td>\n",
       "      <td>izan</td>\n",
       "      <td>AUX</td>\n",
       "      <td>Aspect=Perf|VerbForm=Part</td>\n",
       "      <td>20</td>\n",
       "      <td>cop</td>\n",
       "    </tr>\n",
       "    <tr>\n",
       "      <th>24091</th>\n",
       "      <td>22</td>\n",
       "      <td>da</td>\n",
       "      <td>izan</td>\n",
       "      <td>AUX</td>\n",
       "      <td>Mood=Ind|Number[abs]=Sing|Person[abs]=3|VerbFo...</td>\n",
       "      <td>20</td>\n",
       "      <td>aux</td>\n",
       "    </tr>\n",
       "  </tbody>\n",
       "</table>\n",
       "<p>1707 rows × 7 columns</p>\n",
       "</div>"
      ],
      "text/plain": [
       "       id   form lemma  upos  \\\n",
       "7       8   izan  izan  VERB   \n",
       "15      6     da  izan   AUX   \n",
       "29     12    zen  izan   AUX   \n",
       "34      4    den  izan   AUX   \n",
       "39      2   izan  izan  VERB   \n",
       "...    ..    ...   ...   ...   \n",
       "24026   6  duten  ukan  VERB   \n",
       "24075   6  diren  izan   AUX   \n",
       "24081  12  duela  ukan  VERB   \n",
       "24090  21   izan  izan   AUX   \n",
       "24091  22     da  izan   AUX   \n",
       "\n",
       "                                                   feats head deprel  \n",
       "7                              Aspect=Perf|VerbForm=Part    0   root  \n",
       "15     Mood=Ind|Number[abs]=Sing|Person[abs]=3|VerbFo...    5    aux  \n",
       "29     Mood=Ind|Number[abs]=Sing|Person[abs]=3|VerbFo...   11    aux  \n",
       "34     Mood=Ind|Number[abs]=Sing|Person[abs]=3|VerbFo...    3    aux  \n",
       "39                             Aspect=Perf|VerbForm=Part    4    acl  \n",
       "...                                                  ...  ...    ...  \n",
       "24026                                       VerbForm=Fin    7    acl  \n",
       "24075  Mood=Ind|Number[abs]=Plur|Person[abs]=3|VerbFo...    4    aux  \n",
       "24081  Aspect=Prog|Mood=Ind|Number[abs]=Sing|Number[e...    9  advcl  \n",
       "24090                          Aspect=Perf|VerbForm=Part   20    cop  \n",
       "24091  Mood=Ind|Number[abs]=Sing|Person[abs]=3|VerbFo...   20    aux  \n",
       "\n",
       "[1707 rows x 7 columns]"
      ]
     },
     "execution_count": 29,
     "metadata": {},
     "output_type": "execute_result"
    }
   ],
   "source": [
    "df_filtered"
   ]
  },
  {
   "cell_type": "code",
   "execution_count": 30,
   "id": "4364b0df",
   "metadata": {},
   "outputs": [],
   "source": [
    "import re\n",
    "def extract_features(feats):\n",
    "    if pd.isna(feats):\n",
    "        return []\n",
    "    return re.split(r'\\|=', feats)\n",
    "    "
   ]
  },
  {
   "cell_type": "code",
   "execution_count": 31,
   "id": "c84347d9",
   "metadata": {},
   "outputs": [
    {
     "name": "stderr",
     "output_type": "stream",
     "text": [
      "/tmp/ipykernel_15345/4061473165.py:1: SettingWithCopyWarning: \n",
      "A value is trying to be set on a copy of a slice from a DataFrame.\n",
      "Try using .loc[row_indexer,col_indexer] = value instead\n",
      "\n",
      "See the caveats in the documentation: https://pandas.pydata.org/pandas-docs/stable/user_guide/indexing.html#returning-a-view-versus-a-copy\n",
      "  df_filtered.loc[:, 'feats.list'] = df_filtered['feats'].apply(extract_features) #Creates a colum\n"
     ]
    }
   ],
   "source": [
    "df_filtered.loc[:, 'feats.list'] = df_filtered['feats'].apply(extract_features) #Creates a colum"
   ]
  },
  {
   "cell_type": "code",
   "execution_count": 33,
   "id": "73d944d4",
   "metadata": {},
   "outputs": [],
   "source": [
    "all_features = []\n",
    "for feats in df_filtered['feats.list']:\n",
    "    all_features.extend(feats)\n",
    "unique_features = set(all_features)"
   ]
  },
  {
   "cell_type": "code",
   "execution_count": null,
   "id": "30952358",
   "metadata": {},
   "outputs": [],
   "source": []
  }
 ],
 "metadata": {
  "kernelspec": {
   "display_name": "Python 3",
   "language": "python",
   "name": "python3"
  },
  "language_info": {
   "codemirror_mode": {
    "name": "ipython",
    "version": 3
   },
   "file_extension": ".py",
   "mimetype": "text/x-python",
   "name": "python",
   "nbconvert_exporter": "python",
   "pygments_lexer": "ipython3",
   "version": "3.12.3"
  }
 },
 "nbformat": 4,
 "nbformat_minor": 5
}
